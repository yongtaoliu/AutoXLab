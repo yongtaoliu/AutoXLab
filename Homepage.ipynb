{
 "cells": [
  {
   "cell_type": "markdown",
   "metadata": {},
   "source": [
    "\n",
    "# Yongtao Liu, Ph.D.\n",
    "\n",
    "### R&D Staff, Center for Nanophase Materials Sciences, Oak Ridge National Laboratory  \n",
    " \n",
    "Oak Ridge, Tennessee, USA  \n",
    "Email: liuy3@ornl.gov; youngtaoliu@gmail.com  \n",
    "[Google Scholar](https://scholar.google.com/citations?user=V9FMPgQAAAAJ&hl=en) | [LinkedIn](https://www.linkedin.com/in/yong-tao-liu/)\n",
    "\n",
    "\n",
    "```{image} ../images/chapter_welcome_logo1.png\n",
    ":width: 300px\n",
    ":align: left\n",
    "```\n",
    "```{image} ../images/chapter_welcome_logo2.png\n",
    ":width: 300px\n",
    ":align: left\n",
    "```\n",
    "---\n",
    "\n",
    "## Bio\n",
    "Dr. Yongtao Liu is an R&D staff member at the Center for Nanophase Materials Sciences (CNMS) at Oak Ridge National Laboratory (ORNL). He earned his Ph.D. degree from The University of Tennessee, Knoxville. Dr. Liu’s current work focuses on integrating artificial intelligence (AI) with physics to develop autonomous experimentation platforms, such as autonomous microscopy, that accelerate progress in materials science. He is engaged in interdisciplinary projects and is committed to fostering synergy between human expertise and AI, he strives to develop innovative tools and methods that empower researchers worldwide. Dr. Liu’s research interests also include functional materials, such as ferroelectric, optoelectronic, and photovoltaic materials. His contributions to the field have been recognized with multiple awards / honors, such as Graduate Student Award in MRS and AVS, the Microscopy Society of America Postdoctoral Scholar Award, the Joseph E. Spruiell Award for Excellence in Research, ORNL Outstanding Scholarly Output Award, Microscopy Today Innovation Award, and R&D 100 Award.\n",
    "\n",
    "---\n",
    "## Research Interest\n",
    "- Autonomous Scientific Discovery: Designing AI-powered autonomous experimentation frameworks to accelerate materials research and uncover novel phenomena.\n",
    "\n",
    "\n",
    "- Human-AI Collaboration: Integrating domain expertise with artificial intelligence to guide, interpret, and refine experiments for faster and more insightful scientific discovery.\n",
    "\n",
    "\n",
    "- Cross-Facility Optimization: Developing interconnected autonomous experimentation platforms to enable real-time, collaborative optimization across distributed research facilities.\n",
    "\n",
    "- Interpretable Machine Learning for Science: Creating transparent, explainable AI models to drive hypothesis generation and mechanistic understanding in materials science.\n",
    "\n",
    "- Functional Materials at the Nanoscale: Exploring the nanoscale behavior of functional materials—such as ferroelectrics, halide perovskite optoelectronics, and semiconducting polymers—through advanced imaging and spectroscopy characterization techniques.\n",
    "\n",
    "\n",
    "---\n",
    "\n",
    "## Award\n",
    "- MAS Early Career Travel Award, American Physical Society, 2024\n",
    "- Microscopy Today Innovation Award, Microscopy Society of America, 2024\n",
    "- AVS NSTD Early Career Competition Finalist, American Vacuum Society, 2023\n",
    "- R&D 100 Award, 2023\n",
    "- CNMS Postdoctoral Award, Center for Nanophase Materials Sciences, 2023\n",
    "- Microscopy & Microanalysis Postdoctoral Scholar Award, Microscopy Society of America, 2023\n",
    "- ORNL Outstanding Scholarly Output Award, ORNL, 2022\n",
    "- AVS NSTD Early Career Competition Finalist, American Vacuum Society, 2022\n",
    "- MRS Graduate Student Silver Award, Materials Research Society, 2019\n",
    "- AVS Graduate Research Award, American Vacuum Society, 2019\n",
    "- Best Student Poster Gold Award (1st Place), CNMS ORNL, 2019\n",
    "- Joseph E. Spruiell Award for Excellence in Research, 2019\n",
    "- MRS Graduate Student Silver Award, Materials Research Society, 2018\n",
    "- Best Student Poster Award, CNMS ORNL, 2018\n",
    "\n",
    "---"
   ]
  },
  {
   "cell_type": "markdown",
   "metadata": {},
   "source": []
  }
 ],
 "metadata": {
  "kernelspec": {
   "display_name": "Python 3",
   "language": "python",
   "name": "python3"
  },
  "language_info": {
   "name": "python",
   "version": "3.8"
  }
 },
 "nbformat": 4,
 "nbformat_minor": 2
}
