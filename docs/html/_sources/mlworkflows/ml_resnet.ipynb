{
 "cells": [
  {
   "cell_type": "markdown",
   "id": "6bc2cadf",
   "metadata": {},
   "source": [
    "# Workflow for Ensemble ResNet -- Image and Spectroscopy\n",
    "\n",
    "### 06/2023\n",
    "### Yongtao Liu\n",
    "\n",
    "#### "
   ]
  },
  {
   "cell_type": "markdown",
   "id": "545f5b29",
   "metadata": {},
   "source": [
    "### Install and Import"
   ]
  },
  {
   "cell_type": "code",
   "execution_count": 2,
   "id": "4f2fc877",
   "metadata": {},
   "outputs": [],
   "source": [
    "import os\n",
    "import win32com.client\n",
    "import numpy as np\n",
    "import time\n",
    "import h5py\n",
    "import sidpy\n",
    "import pyNSID\n",
    "import matplotlib.pyplot as plt\n",
    "from tqdm import tqdm\n",
    "import atomai as aoi\n",
    "\n",
    "from scipy.ndimage import gaussian_filter\n",
    "from IPython.display import clear_output\n",
    "from skimage.morphology import skeletonize\n",
    "from sklearn.metrics import euclidean_distances\n",
    "\n",
    "\n",
    "# import acquition.py\n",
    "from Acquisition_v0_6 import Acquisition   # include the Acquistion_v0.py in the same directory"
   ]
  },
  {
   "cell_type": "markdown",
   "id": "836c05a8",
   "metadata": {},
   "source": [
    "### Start BEPyAE.exe and set VI\n",
    "\n",
    "* Start BEPyAE.ext\n",
    "* Set VI of BEPyAE; if this version includes PyScanner, also set VIs for PyScanner"
   ]
  },
  {
   "cell_type": "code",
   "execution_count": 2,
   "id": "91ee86f5",
   "metadata": {},
   "outputs": [],
   "source": [
    "newexp = Acquisition(exe_path = r\"G:\\My Drive\\AE\\PyAE\\BEPyAE 060123 01\\BEPyAE.exe\")   # exe_path is the directory of BEPyAE; "
   ]
  },
  {
   "cell_type": "markdown",
   "id": "93f421fa",
   "metadata": {},
   "source": [
    "### Initialize Igor AR18\n",
    "* Set offline development\n",
    "* Build a connection between BEPyAE and AR18\n",
    "* Get parameters in AR18"
   ]
  },
  {
   "cell_type": "code",
   "execution_count": 3,
   "id": "3b51e907",
   "metadata": {},
   "outputs": [],
   "source": [
    "newexp.init_BEPyAE(offline_development = True) # set offline_development=True if doing offline development\n",
    "                                                # executing this will also initlize AR18"
   ]
  },
  {
   "cell_type": "markdown",
   "id": "c963f382",
   "metadata": {},
   "source": [
    ">##### Hereinafter \n",
    "> * If no parameters are provided in a function, executing the function will utilize the default parameters within $BEPyAE.exe$.\n",
    "> * Certain functions provide feedback after execution, which can be disabled by setting $feedbackon=False$. This allows you to deactivate feedback during specific iterations or instances when it is not required.\n",
    "> * Note: For tip locations, -1 corresponds to the left-hand side on the x-axis and the bottom side on the y-axis, while 1 corresponds to the right-hand side on the x-axis and the top side on the y-axis."
   ]
  },
  {
   "attachments": {
    "image.png": {
     "image/png": "[encoded data removed]"
    }
   },
   "cell_type": "markdown",
   "id": "756ab303",
   "metadata": {},
   "source": [
    "### Set tip parameters\n",
    "* set setpoint, tip locations\n",
    "\n",
    "![image.png](attachment:image.png)"
   ]
  },
  {
   "cell_type": "code",
   "execution_count": 4,
   "id": "7484a9a1",
   "metadata": {},
   "outputs": [
    {
     "name": "stdout",
     "output_type": "stream",
     "text": [
      "Setpoint is:  1.0\n",
      "Tip parameters are:  (-0.5, 0.5, 0.5)\n",
      "Please reset if some parameters are incorrect\n"
     ]
    }
   ],
   "source": [
    "newexp.tip_control(tip_parms_dict = {\"set_point_V_00\": 1, \"next_x_pos_00\": -0.5, \"next_y_pos_01\": 0.5},\n",
    "                   do_move_tip = True, \n",
    "                   do_set_setpoint = True) # Executing this code will set setpoint to 1 V, \n",
    "                                           # and move tip to location [0.5, 0.5]"
   ]
  },
  {
   "cell_type": "markdown",
   "id": "eea3d6d5",
   "metadata": {},
   "source": [
    "### Set IO \n",
    "This defines IO parameters, such as AFM platform: AR18, amplifiers, channel data types, etc"
   ]
  },
  {
   "cell_type": "code",
   "execution_count": 5,
   "id": "a3eb5cdf",
   "metadata": {},
   "outputs": [
    {
     "name": "stdout",
     "output_type": "stream",
     "text": [
      "IO control parameters are:  ('0 Cypher AR18', '6124', 4000000.0, 10.0, 10.0, 'AC and DC on AO0', 10.0, 'topography', 'current', 'aux', 'external')\n",
      "Please reset if some parameters are incorrect\n"
     ]
    }
   ],
   "source": [
    "newexp.define_io_cluster(IO_cluster_parms_dict = {\"analog_output_amplifier_06\": 1, \n",
    "                                                  \"channel_01_type_07\": 1, \n",
    "                                                  \"channel_02_type_08\": 2,\"channel_03_type_09\": 3,})"
   ]
  },
  {
   "cell_type": "markdown",
   "id": "702b917f",
   "metadata": {},
   "source": [
    "### Set BE pulse parameters "
   ]
  },
  {
   "cell_type": "code",
   "execution_count": 6,
   "id": "5b332c6c",
   "metadata": {},
   "outputs": [
    {
     "name": "stdout",
     "output_type": "stream",
     "text": [
      "BE parameters are:  (335000.0, 100000.0, 1.0, 1.0, 4, 0.004, 1, 3352.2952763920002, 0.12159459061880915)\n",
      "Please reset if some parameters are incorrect\n"
     ]
    },
    {
     "data": {
      "text/plain": [
       "(335000.0,\n",
       " 100000.0,\n",
       " 1.0,\n",
       " 1.0,\n",
       " 4,\n",
       " 0.004,\n",
       " 1,\n",
       " 3352.2952763920002,\n",
       " 0.12159459061880915)"
      ]
     },
     "execution_count": 6,
     "metadata": {},
     "output_type": "execute_result"
    }
   ],
   "source": [
    "# set BE parameters\n",
    "newexp.define_be_parms(be_parms_dict = {\"center_frequency_Hz_00\": 335, \"band_width_Hz_01\": 100,\n",
    "                                       \"amplitude_V_02\": 1, \"phase_variation_03\": 1,\n",
    "                                       \"repeats_04\": 4, \"req_pulse_duration_s_05\": 4,\n",
    "                                       \"auto_smooth_ring_06\": 1}, \n",
    "                      do_create_be_waveform = True)"
   ]
  },
  {
   "cell_type": "markdown",
   "id": "5a18a317",
   "metadata": {},
   "source": [
    "# *Run a Few Tests Before Experiment*\n",
    "# --------------------------------------------------------"
   ]
  },
  {
   "cell_type": "markdown",
   "id": "8af23d31",
   "metadata": {},
   "source": [
    "### BE Line scan\n",
    "* This is a single BE line scan\n",
    "* This returns 5 datasets: quick_fitting, complex spectra, and 3 channels"
   ]
  },
  {
   "cell_type": "code",
   "execution_count": 7,
   "id": "0a2d63a9",
   "metadata": {},
   "outputs": [
    {
     "name": "stdout",
     "output_type": "stream",
     "text": [
      "voltage offset and number of BE pulse are:  (0.0, 32)\n",
      "line scan start and end positions:  (-0.5, 0.0, 0.5, 0.0)\n"
     ]
    }
   ],
   "source": [
    "# Do a single line scan\n",
    "qk_fit, com_spec, chn1, chn2, chn3 = newexp.do_line_scan(line_scan_parms_dict = {\"num_BE_pulses_01\": 32,\n",
    "                                                                                 \"start_x_pos_00\": -0.5, \"start_y_pos_01\": 0,\n",
    "                                                                                 \"stop_x_pos_02\": 0.5, \"stop_y_pos_03\": 0},\n",
    "                                                         upload_to_daq = True, do_line_scan = True)"
   ]
  },
  {
   "cell_type": "markdown",
   "id": "6f32f646",
   "metadata": {},
   "source": [
    "### BE Raster Scan\n",
    "* Square raster scan\n",
    "* raster_scan returns 3 sidpy datasets: BEPFM quick fitting, channels, and BE complex spectra\n",
    "* raster_scan also saves these 3 sidpy dataset in a hdf5 file"
   ]
  },
  {
   "cell_type": "code",
   "execution_count": 8,
   "id": "b383fa41",
   "metadata": {},
   "outputs": [
    {
     "data": {
      "image/png": "[encoded data removed]",
      "text/plain": [
       "<Figure size 2016x288 with 14 Axes>"
      ]
     },
     "metadata": {
      "needs_background": "light"
     },
     "output_type": "display_data"
    },
    {
     "name": "stderr",
     "output_type": "stream",
     "text": [
      " [progress: 0:00:41] |************************************  | (ETA:   0:00:01) C:\\Users\\yla\\Anaconda3\\lib\\site-packages\\pyNSID\\io\\hdf_utils.py:376: FutureWarning: validate_h5_dimension may be removed in a future version\n",
      "  warn('validate_h5_dimension may be removed in a future version',\n",
      "C:\\Users\\yla\\Anaconda3\\lib\\site-packages\\pyNSID\\io\\hdf_utils.py:376: FutureWarning: validate_h5_dimension may be removed in a future version\n",
      "  warn('validate_h5_dimension may be removed in a future version',\n",
      "C:\\Users\\yla\\Anaconda3\\lib\\site-packages\\pyNSID\\io\\hdf_utils.py:376: FutureWarning: validate_h5_dimension may be removed in a future version\n",
      "  warn('validate_h5_dimension may be removed in a future version',\n"
     ]
    }
   ],
   "source": [
    "# Do a 64*64 raster scan\n",
    "dset_pfm, dset_chns, dset_cs = newexp.raster_scan(raster_parms_dict = {\"scan_pixel\": 32, \"scan_x_start\": -0.8,\n",
    "                                                                       \"scan_y_start\": -0.8,\"scan_x_stop\": 0.8,\n",
    "                                                                       \"scan_y_stop\": 0.8}, \n",
    "                                                  file_name = \"pfm\")\n",
    "\n",
    "# if you see below error, check if you set IO channels manually---this has to be done manually now\n",
    " ### TypeError: When specifying values over which a parameter is varied, values should not be an empty array"
   ]
  },
  {
   "cell_type": "markdown",
   "id": "46878dcb",
   "metadata": {},
   "source": [
    "### BE Raster Scan Results\n",
    "* 1. BE quick fit"
   ]
  },
  {
   "cell_type": "code",
   "execution_count": 9,
   "id": "dc7e3220",
   "metadata": {},
   "outputs": [
    {
     "data": {
      "text/html": [
       "<table>\n",
       "    <tr>\n",
       "        <td>\n",
       "            <table>\n",
       "                <thead>\n",
       "                    <tr>\n",
       "                        <td> </td>\n",
       "                        <th> Array </th>\n",
       "                        <th> Chunk </th>\n",
       "                    </tr>\n",
       "                </thead>\n",
       "                <tbody>\n",
       "                    \n",
       "                    <tr>\n",
       "                        <th> Bytes </th>\n",
       "                        <td> 40.00 kiB </td>\n",
       "                        <td> 40.00 kiB </td>\n",
       "                    </tr>\n",
       "                    \n",
       "                    <tr>\n",
       "                        <th> Shape </th>\n",
       "                        <td> (32, 32, 5) </td>\n",
       "                        <td> (32, 32, 5) </td>\n",
       "                    </tr>\n",
       "                    <tr>\n",
       "                        <th> Count </th>\n",
       "                        <td> 1 Tasks </td>\n",
       "                        <td> 1 Chunks </td>\n",
       "                    </tr>\n",
       "                    <tr>\n",
       "                    <th> Type </th>\n",
       "                    <td> float64 </td>\n",
       "                    <td> numpy.ndarray </td>\n",
       "                    </tr>\n",
       "                </tbody>\n",
       "            </table>\n",
       "        </td>\n",
       "        <td>\n",
       "        <svg width=\"171\" height=\"240\" style=\"stroke:rgb(0,0,0);stroke-width:1\" >\n",
       "\n",
       "  <!-- Horizontal lines -->\n",
       "  <line x1=\"10\" y1=\"0\" x2=\"80\" y2=\"70\" style=\"stroke-width:2\" />\n",
       "  <line x1=\"10\" y1=\"120\" x2=\"80\" y2=\"190\" style=\"stroke-width:2\" />\n",
       "\n",
       "  <!-- Vertical lines -->\n",
       "  <line x1=\"10\" y1=\"0\" x2=\"10\" y2=\"120\" style=\"stroke-width:2\" />\n",
       "  <line x1=\"80\" y1=\"70\" x2=\"80\" y2=\"190\" style=\"stroke-width:2\" />\n",
       "\n",
       "  <!-- Colored Rectangle -->\n",
       "  <polygon points=\"10.0,0.0 80.58823529411765,70.58823529411765 80.58823529411765,190.58823529411765 10.0,120.0\" style=\"fill:#ECB172A0;stroke-width:0\"/>\n",
       "\n",
       "  <!-- Horizontal lines -->\n",
       "  <line x1=\"10\" y1=\"0\" x2=\"50\" y2=\"0\" style=\"stroke-width:2\" />\n",
       "  <line x1=\"80\" y1=\"70\" x2=\"121\" y2=\"70\" style=\"stroke-width:2\" />\n",
       "\n",
       "  <!-- Vertical lines -->\n",
       "  <line x1=\"10\" y1=\"0\" x2=\"80\" y2=\"70\" style=\"stroke-width:2\" />\n",
       "  <line x1=\"50\" y1=\"0\" x2=\"121\" y2=\"70\" style=\"stroke-width:2\" />\n",
       "\n",
       "  <!-- Colored Rectangle -->\n",
       "  <polygon points=\"10.0,0.0 50.90179082482365,0.0 121.4900261189413,70.58823529411765 80.58823529411765,70.58823529411765\" style=\"fill:#ECB172A0;stroke-width:0\"/>\n",
       "\n",
       "  <!-- Horizontal lines -->\n",
       "  <line x1=\"80\" y1=\"70\" x2=\"121\" y2=\"70\" style=\"stroke-width:2\" />\n",
       "  <line x1=\"80\" y1=\"190\" x2=\"121\" y2=\"190\" style=\"stroke-width:2\" />\n",
       "\n",
       "  <!-- Vertical lines -->\n",
       "  <line x1=\"80\" y1=\"70\" x2=\"80\" y2=\"190\" style=\"stroke-width:2\" />\n",
       "  <line x1=\"121\" y1=\"70\" x2=\"121\" y2=\"190\" style=\"stroke-width:2\" />\n",
       "\n",
       "  <!-- Colored Rectangle -->\n",
       "  <polygon points=\"80.58823529411765,70.58823529411765 121.4900261189413,70.58823529411765 121.4900261189413,190.58823529411765 80.58823529411765,190.58823529411765\" style=\"fill:#ECB172A0;stroke-width:0\"/>\n",
       "\n",
       "  <!-- Text -->\n",
       "  <text x=\"101.039131\" y=\"210.588235\" font-size=\"1.0rem\" font-weight=\"100\" text-anchor=\"middle\" >5</text>\n",
       "  <text x=\"141.490026\" y=\"130.588235\" font-size=\"1.0rem\" font-weight=\"100\" text-anchor=\"middle\" transform=\"rotate(0,141.490026,130.588235)\">32</text>\n",
       "  <text x=\"35.294118\" y=\"175.294118\" font-size=\"1.0rem\" font-weight=\"100\" text-anchor=\"middle\" transform=\"rotate(45,35.294118,175.294118)\">32</text>\n",
       "</svg>\n",
       "        </td>\n",
       "    </tr>\n",
       "</table>"
      ],
      "text/plain": [
       "sidpy.Dataset of type IMAGE_STACK with:\n",
       " dask.array<array, shape=(32, 32, 5), dtype=float64, chunksize=(32, 32, 5), chunktype=numpy.ndarray>\n",
       " data contains: quick fit pfm (generic)\n",
       " and Dimensions: \n",
       "y axis:  y axis (m) of size (32,)\n",
       "x axis:  x axis (m) of size (32,)\n",
       "BE responses:  channels (generic) of size (5,)"
      ]
     },
     "execution_count": 9,
     "metadata": {},
     "output_type": "execute_result"
    }
   ],
   "source": [
    "dset_pfm"
   ]
  },
  {
   "cell_type": "code",
   "execution_count": 10,
   "id": "c7894a5e",
   "metadata": {},
   "outputs": [
    {
     "data": {
      "text/plain": [
       "<matplotlib.image.AxesImage at 0x1b0893df3a0>"
      ]
     },
     "execution_count": 10,
     "metadata": {},
     "output_type": "execute_result"
    },
    {
     "data": {
      "image/png": "[encoded data removed]",
      "text/plain": [
       "<Figure size 2500x500 with 5 Axes>"
      ]
     },
     "metadata": {
      "needs_background": "light"
     },
     "output_type": "display_data"
    }
   ],
   "source": [
    "# plot BEPFM quick fit data\n",
    "f, (ax1, ax2, ax3, ax4, ax5) = plt.subplots(1, 5, figsize = (25, 5), dpi = 100)\n",
    "ax1.imshow(dset_pfm[:,:,0])\n",
    "ax2.imshow(dset_pfm[:,:,1])\n",
    "ax3.imshow(dset_pfm[:,:,2])\n",
    "ax4.imshow(dset_pfm[:,:,3])\n",
    "ax5.imshow(dset_pfm[:,:,4])"
   ]
  },
  {
   "cell_type": "markdown",
   "id": "e370ab75",
   "metadata": {},
   "source": [
    "* 2. channels"
   ]
  },
  {
   "cell_type": "code",
   "execution_count": 11,
   "id": "2ead8383",
   "metadata": {},
   "outputs": [
    {
     "data": {
      "text/html": [
       "<table>\n",
       "    <tr>\n",
       "        <td>\n",
       "            <table>\n",
       "                <thead>\n",
       "                    <tr>\n",
       "                        <td> </td>\n",
       "                        <th> Array </th>\n",
       "                        <th> Chunk </th>\n",
       "                    </tr>\n",
       "                </thead>\n",
       "                <tbody>\n",
       "                    \n",
       "                    <tr>\n",
       "                        <th> Bytes </th>\n",
       "                        <td> 24.00 kiB </td>\n",
       "                        <td> 24.00 kiB </td>\n",
       "                    </tr>\n",
       "                    \n",
       "                    <tr>\n",
       "                        <th> Shape </th>\n",
       "                        <td> (3, 32, 32, 1) </td>\n",
       "                        <td> (3, 32, 32, 1) </td>\n",
       "                    </tr>\n",
       "                    <tr>\n",
       "                        <th> Count </th>\n",
       "                        <td> 1 Tasks </td>\n",
       "                        <td> 1 Chunks </td>\n",
       "                    </tr>\n",
       "                    <tr>\n",
       "                    <th> Type </th>\n",
       "                    <td> float64 </td>\n",
       "                    <td> numpy.ndarray </td>\n",
       "                    </tr>\n",
       "                </tbody>\n",
       "            </table>\n",
       "        </td>\n",
       "        <td>\n",
       "        <svg width=\"368\" height=\"240\" style=\"stroke:rgb(0,0,0);stroke-width:1\" >\n",
       "\n",
       "  <!-- Horizontal lines -->\n",
       "  <line x1=\"0\" y1=\"0\" x2=\"38\" y2=\"0\" style=\"stroke-width:2\" />\n",
       "  <line x1=\"0\" y1=\"31\" x2=\"38\" y2=\"31\" style=\"stroke-width:2\" />\n",
       "\n",
       "  <!-- Vertical lines -->\n",
       "  <line x1=\"0\" y1=\"0\" x2=\"0\" y2=\"31\" style=\"stroke-width:2\" />\n",
       "  <line x1=\"38\" y1=\"0\" x2=\"38\" y2=\"31\" style=\"stroke-width:2\" />\n",
       "\n",
       "  <!-- Colored Rectangle -->\n",
       "  <polygon points=\"0.0,0.0 38.23618305134097,0.0 38.23618305134097,31.635229193102678 0.0,31.635229193102678\" style=\"fill:#ECB172A0;stroke-width:0\"/>\n",
       "\n",
       "  <!-- Text -->\n",
       "  <text x=\"19.118092\" y=\"51.635229\" font-size=\"1.0rem\" font-weight=\"100\" text-anchor=\"middle\" >3</text>\n",
       "  <text x=\"58.236183\" y=\"15.817615\" font-size=\"1.0rem\" font-weight=\"100\" text-anchor=\"middle\" transform=\"rotate(0,58.236183,15.817615)\">1</text>\n",
       "\n",
       "\n",
       "  <!-- Horizontal lines -->\n",
       "  <line x1=\"108\" y1=\"0\" x2=\"178\" y2=\"70\" style=\"stroke-width:2\" />\n",
       "  <line x1=\"108\" y1=\"120\" x2=\"178\" y2=\"190\" style=\"stroke-width:2\" />\n",
       "\n",
       "  <!-- Vertical lines -->\n",
       "  <line x1=\"108\" y1=\"0\" x2=\"108\" y2=\"120\" style=\"stroke-width:2\" />\n",
       "  <line x1=\"178\" y1=\"70\" x2=\"178\" y2=\"190\" style=\"stroke-width:2\" />\n",
       "\n",
       "  <!-- Colored Rectangle -->\n",
       "  <polygon points=\"108.0,0.0 178.58823529411765,70.58823529411765 178.58823529411765,190.58823529411765 108.0,120.0\" style=\"fill:#ECB172A0;stroke-width:0\"/>\n",
       "\n",
       "  <!-- Horizontal lines -->\n",
       "  <line x1=\"108\" y1=\"0\" x2=\"139\" y2=\"0\" style=\"stroke-width:2\" />\n",
       "  <line x1=\"178\" y1=\"70\" x2=\"210\" y2=\"70\" style=\"stroke-width:2\" />\n",
       "\n",
       "  <!-- Vertical lines -->\n",
       "  <line x1=\"108\" y1=\"0\" x2=\"178\" y2=\"70\" style=\"stroke-width:2\" />\n",
       "  <line x1=\"139\" y1=\"0\" x2=\"210\" y2=\"70\" style=\"stroke-width:2\" />\n",
       "\n",
       "  <!-- Colored Rectangle -->\n",
       "  <polygon points=\"108.0,0.0 139.63522919310267,0.0 210.22346448722033,70.58823529411765 178.58823529411765,70.58823529411765\" style=\"fill:#ECB172A0;stroke-width:0\"/>\n",
       "\n",
       "  <!-- Horizontal lines -->\n",
       "  <line x1=\"178\" y1=\"70\" x2=\"210\" y2=\"70\" style=\"stroke-width:2\" />\n",
       "  <line x1=\"178\" y1=\"190\" x2=\"210\" y2=\"190\" style=\"stroke-width:2\" />\n",
       "\n",
       "  <!-- Vertical lines -->\n",
       "  <line x1=\"178\" y1=\"70\" x2=\"178\" y2=\"190\" style=\"stroke-width:2\" />\n",
       "  <line x1=\"210\" y1=\"70\" x2=\"210\" y2=\"190\" style=\"stroke-width:2\" />\n",
       "\n",
       "  <!-- Colored Rectangle -->\n",
       "  <polygon points=\"178.58823529411765,70.58823529411765 210.22346448722033,70.58823529411765 210.22346448722033,190.58823529411765 178.58823529411765,190.58823529411765\" style=\"fill:#ECB172A0;stroke-width:0\"/>\n",
       "\n",
       "  <!-- Text -->\n",
       "  <text x=\"194.405850\" y=\"210.588235\" font-size=\"1.0rem\" font-weight=\"100\" text-anchor=\"middle\" >1</text>\n",
       "  <text x=\"230.223464\" y=\"130.588235\" font-size=\"1.0rem\" font-weight=\"100\" text-anchor=\"middle\" transform=\"rotate(0,230.223464,130.588235)\">32</text>\n",
       "  <text x=\"133.294118\" y=\"175.294118\" font-size=\"1.0rem\" font-weight=\"100\" text-anchor=\"middle\" transform=\"rotate(45,133.294118,175.294118)\">32</text>\n",
       "</svg>\n",
       "        </td>\n",
       "    </tr>\n",
       "</table>"
      ],
      "text/plain": [
       "sidpy.Dataset of type IMAGE_STACK with:\n",
       " dask.array<array, shape=(3, 32, 32, 1), dtype=float64, chunksize=(3, 32, 32, 1), chunktype=numpy.ndarray>\n",
       " data contains: channels (generic)\n",
       " and Dimensions: \n",
       "y axis:  y axis (m) of size (3,)\n",
       "x axis:  x axis (m) of size (32,)\n",
       "channels images:  channels (generic) of size (32,)\n",
       "d:  generic (generic) of size (1,)"
      ]
     },
     "execution_count": 11,
     "metadata": {},
     "output_type": "execute_result"
    }
   ],
   "source": [
    "dset_chns"
   ]
  },
  {
   "cell_type": "code",
   "execution_count": 12,
   "id": "f6849c2a",
   "metadata": {},
   "outputs": [
    {
     "data": {
      "text/plain": [
       "<matplotlib.image.AxesImage at 0x1b0897b8be0>"
      ]
     },
     "execution_count": 12,
     "metadata": {},
     "output_type": "execute_result"
    },
    {
     "name": "stderr",
     "output_type": "stream",
     "text": [
      "C:\\Users\\yla\\Anaconda3\\lib\\site-packages\\matplotlib\\image.py:446: UserWarning: Warning: converting a masked element to nan.\n",
      "  dv = np.float64(self.norm.vmax) - np.float64(self.norm.vmin)\n",
      "C:\\Users\\yla\\Anaconda3\\lib\\site-packages\\matplotlib\\image.py:453: UserWarning: Warning: converting a masked element to nan.\n",
      "  a_min = np.float64(newmin)\n",
      "C:\\Users\\yla\\Anaconda3\\lib\\site-packages\\matplotlib\\image.py:458: UserWarning: Warning: converting a masked element to nan.\n",
      "  a_max = np.float64(newmax)\n"
     ]
    },
    {
     "data": {
      "image/png": "[encoded data removed]",
      "text/plain": [
       "<Figure size 1500x500 with 3 Axes>"
      ]
     },
     "metadata": {
      "needs_background": "light"
     },
     "output_type": "display_data"
    }
   ],
   "source": [
    "# plot channel data\n",
    "f, (ax1, ax2, ax3) = plt.subplots(1, 3, figsize = (15, 5), dpi = 100)\n",
    "ax1.imshow(dset_chns[0,:,:])\n",
    "ax2.imshow(dset_chns[1,:,:])\n",
    "ax3.imshow(dset_chns[2,:,:])"
   ]
  },
  {
   "cell_type": "markdown",
   "id": "d6bd0ee5",
   "metadata": {},
   "source": [
    "* 3. complex spectra"
   ]
  },
  {
   "cell_type": "code",
   "execution_count": 13,
   "id": "f9707d7c",
   "metadata": {},
   "outputs": [
    {
     "data": {
      "text/html": [
       "<table>\n",
       "    <tr>\n",
       "        <td>\n",
       "            <table>\n",
       "                <thead>\n",
       "                    <tr>\n",
       "                        <td> </td>\n",
       "                        <th> Array </th>\n",
       "                        <th> Chunk </th>\n",
       "                    </tr>\n",
       "                </thead>\n",
       "                <tbody>\n",
       "                    \n",
       "                    <tr>\n",
       "                        <th> Bytes </th>\n",
       "                        <td> 0.97 MiB </td>\n",
       "                        <td> 0.97 MiB </td>\n",
       "                    </tr>\n",
       "                    \n",
       "                    <tr>\n",
       "                        <th> Shape </th>\n",
       "                        <td> (32, 32, 62) </td>\n",
       "                        <td> (32, 32, 62) </td>\n",
       "                    </tr>\n",
       "                    <tr>\n",
       "                        <th> Count </th>\n",
       "                        <td> 1 Tasks </td>\n",
       "                        <td> 1 Chunks </td>\n",
       "                    </tr>\n",
       "                    <tr>\n",
       "                    <th> Type </th>\n",
       "                    <td> complex128 </td>\n",
       "                    <td> numpy.ndarray </td>\n",
       "                    </tr>\n",
       "                </tbody>\n",
       "            </table>\n",
       "        </td>\n",
       "        <td>\n",
       "        <svg width=\"216\" height=\"148\" style=\"stroke:rgb(0,0,0);stroke-width:1\" >\n",
       "\n",
       "  <!-- Horizontal lines -->\n",
       "  <line x1=\"10\" y1=\"0\" x2=\"46\" y2=\"36\" style=\"stroke-width:2\" />\n",
       "  <line x1=\"10\" y1=\"61\" x2=\"46\" y2=\"98\" style=\"stroke-width:2\" />\n",
       "\n",
       "  <!-- Vertical lines -->\n",
       "  <line x1=\"10\" y1=\"0\" x2=\"10\" y2=\"61\" style=\"stroke-width:2\" />\n",
       "  <line x1=\"46\" y1=\"36\" x2=\"46\" y2=\"98\" style=\"stroke-width:2\" />\n",
       "\n",
       "  <!-- Colored Rectangle -->\n",
       "  <polygon points=\"10.0,0.0 46.4326375711575,36.4326375711575 46.4326375711575,98.36812144212524 10.0,61.935483870967744\" style=\"fill:#ECB172A0;stroke-width:0\"/>\n",
       "\n",
       "  <!-- Horizontal lines -->\n",
       "  <line x1=\"10\" y1=\"0\" x2=\"130\" y2=\"0\" style=\"stroke-width:2\" />\n",
       "  <line x1=\"46\" y1=\"36\" x2=\"166\" y2=\"36\" style=\"stroke-width:2\" />\n",
       "\n",
       "  <!-- Vertical lines -->\n",
       "  <line x1=\"10\" y1=\"0\" x2=\"46\" y2=\"36\" style=\"stroke-width:2\" />\n",
       "  <line x1=\"130\" y1=\"0\" x2=\"166\" y2=\"36\" style=\"stroke-width:2\" />\n",
       "\n",
       "  <!-- Colored Rectangle -->\n",
       "  <polygon points=\"10.0,0.0 130.0,0.0 166.4326375711575,36.4326375711575 46.4326375711575,36.4326375711575\" style=\"fill:#ECB172A0;stroke-width:0\"/>\n",
       "\n",
       "  <!-- Horizontal lines -->\n",
       "  <line x1=\"46\" y1=\"36\" x2=\"166\" y2=\"36\" style=\"stroke-width:2\" />\n",
       "  <line x1=\"46\" y1=\"98\" x2=\"166\" y2=\"98\" style=\"stroke-width:2\" />\n",
       "\n",
       "  <!-- Vertical lines -->\n",
       "  <line x1=\"46\" y1=\"36\" x2=\"46\" y2=\"98\" style=\"stroke-width:2\" />\n",
       "  <line x1=\"166\" y1=\"36\" x2=\"166\" y2=\"98\" style=\"stroke-width:2\" />\n",
       "\n",
       "  <!-- Colored Rectangle -->\n",
       "  <polygon points=\"46.4326375711575,36.4326375711575 166.4326375711575,36.4326375711575 166.4326375711575,98.36812144212524 46.4326375711575,98.36812144212524\" style=\"fill:#ECB172A0;stroke-width:0\"/>\n",
       "\n",
       "  <!-- Text -->\n",
       "  <text x=\"106.432638\" y=\"118.368121\" font-size=\"1.0rem\" font-weight=\"100\" text-anchor=\"middle\" >62</text>\n",
       "  <text x=\"186.432638\" y=\"67.400380\" font-size=\"1.0rem\" font-weight=\"100\" text-anchor=\"middle\" transform=\"rotate(0,186.432638,67.400380)\">32</text>\n",
       "  <text x=\"18.216319\" y=\"100.151803\" font-size=\"1.0rem\" font-weight=\"100\" text-anchor=\"middle\" transform=\"rotate(45,18.216319,100.151803)\">32</text>\n",
       "</svg>\n",
       "        </td>\n",
       "    </tr>\n",
       "</table>"
      ],
      "text/plain": [
       "sidpy.Dataset of type UNKNOWN with:\n",
       " dask.array<array, shape=(32, 32, 62), dtype=complex128, chunksize=(32, 32, 62), chunktype=numpy.ndarray>\n",
       " data contains: pfm complex spectra (V)\n",
       " and Dimensions: \n",
       "location index y:  index (generic) of size (32,)\n",
       "location index x:  index (Hz) of size (32,)\n",
       "c:  generic (generic) of size (62,)"
      ]
     },
     "execution_count": 13,
     "metadata": {},
     "output_type": "execute_result"
    }
   ],
   "source": [
    "# complex spectra\n",
    "dset_cs"
   ]
  },
  {
   "cell_type": "code",
   "execution_count": 14,
   "id": "087ca1b5",
   "metadata": {},
   "outputs": [
    {
     "name": "stdout",
     "output_type": "stream",
     "text": [
      "/\n",
      "├ BE Channels\n",
      "  -----------\n",
      "  ├ Channels\n",
      "    --------\n",
      "    ├ Channels\n",
      "    ├ channels images\n",
      "    ├ d\n",
      "    ├ x axis\n",
      "    ├ y axis\n",
      "├ BE Complex Spectra\n",
      "  ------------------\n",
      "  ├ Complex Spectra\n",
      "    ---------------\n",
      "    ├ Complex Spectra\n",
      "    ├ c\n",
      "    ├ location index x\n",
      "    ├ location index y\n",
      "├ BE Parameters\n",
      "  -------------\n",
      "  ├ frequency\n",
      "  ├ pulse parameters\n",
      "  ├ scan size\n",
      "├ BE Quick Fitting\n",
      "  ----------------\n",
      "  ├ Quick Fitting\n",
      "    -------------\n",
      "    ├ BE responses\n",
      "    ├ Quick Fitting\n",
      "    ├ x axis\n",
      "    ├ y axis\n"
     ]
    }
   ],
   "source": [
    "hf = h5py.File('pfm_0.hf5', 'r+')\n",
    "sidpy.hdf.hdf_utils.print_tree(hf)"
   ]
  },
  {
   "cell_type": "markdown",
   "id": "d992d7b1",
   "metadata": {},
   "source": [
    "# *Tests Done*\n",
    "# --------------------------------------------------------"
   ]
  },
  {
   "cell_type": "markdown",
   "id": "b57ddb0f",
   "metadata": {},
   "source": [
    "# Experiment Starts"
   ]
  },
  {
   "cell_type": "markdown",
   "id": "60a600bf",
   "metadata": {},
   "source": [
    "### Prior to expeirment, set a directory for saving data"
   ]
  },
  {
   "cell_type": "code",
   "execution_count": 15,
   "id": "0f44615e",
   "metadata": {},
   "outputs": [
    {
     "ename": "FileNotFoundError",
     "evalue": "[WinError 3] The system cannot find the path specified: '/content/save directory/'",
     "output_type": "error",
     "traceback": [
      "\u001b[1;31m---------------------------------------------------------------------------\u001b[0m",
      "\u001b[1;31mFileNotFoundError\u001b[0m                         Traceback (most recent call last)",
      "\u001b[1;32m~\\AppData\\Local\\Temp/ipykernel_25324/3425510952.py\u001b[0m in \u001b[0;36m<module>\u001b[1;34m\u001b[0m\n\u001b[1;32m----> 1\u001b[1;33m \u001b[0mos\u001b[0m\u001b[1;33m.\u001b[0m\u001b[0mchdir\u001b[0m\u001b[1;33m(\u001b[0m\u001b[1;34m\"/content/save directory/\"\u001b[0m\u001b[1;33m)\u001b[0m\u001b[1;33m\u001b[0m\u001b[1;33m\u001b[0m\u001b[0m\n\u001b[0m",
      "\u001b[1;31mFileNotFoundError\u001b[0m: [WinError 3] The system cannot find the path specified: '/content/save directory/'"
     ]
    }
   ],
   "source": [
    "os.chdir(\"/content/save directory/\")"
   ]
  },
  {
   "cell_type": "markdown",
   "id": "5f840f68",
   "metadata": {},
   "source": [
    "### Step 1. Perform an image measurement, e.g., BEPFM "
   ]
  },
  {
   "cell_type": "code",
   "execution_count": 16,
   "id": "f23cdb3f",
   "metadata": {},
   "outputs": [
    {
     "name": "stdout",
     "output_type": "stream",
     "text": [
      "20 locations are ready for experiments\n"
     ]
    }
   ],
   "source": [
    "dset_pfm, dset_chns, dset_cs = newexp.raster_scan(raster_parms_dict = {\"scan_pixel\": 256, \"scan_x_start\": -1.0,\n",
    "                                                                       \"scan_y_start\": -1.0,\"scan_x_stop\": 1.0,\n",
    "                                                                       \"scan_y_stop\": 1.0}, file_name = \"BEPFM\")\n",
    "\n",
    "f, (ax1, ax2, ax3, ax4, ax5, ax6) = plt.subplots(1, 6, figsize = (30, 5), dpi = 100)\n",
    "ax1.imshow(dset_pfm[:,:,0])\n",
    "ax2.imshow(dset_pfm[:,:,1])\n",
    "ax3.imshow(dset_pfm[:,:,2])\n",
    "ax4.imshow(dset_pfm[:,:,3])\n",
    "ax5.imshow(dset_chns[0,:,:])\n",
    "ax6.imshow(dset_chns[1,:,:])\n",
    "plt.show()"
   ]
  },
  {
   "cell_type": "markdown",
   "id": "17ea0132",
   "metadata": {},
   "source": [
    "### Step 2. Pick the image channel involving the target objects"
   ]
  },
  {
   "cell_type": "code",
   "execution_count": null,
   "id": "284fb4f6",
   "metadata": {},
   "outputs": [],
   "source": [
    "# Load target image\n",
    "target_raw = dset_pfm[:,:,0]\n",
    "target_raw = np.copy(target_raw)\n",
    "# normalize target_img\n",
    "target_raw = (target_raw-target_raw.min())/(target_raw.ptp())"
   ]
  },
  {
   "cell_type": "markdown",
   "id": "2f9d7233",
   "metadata": {},
   "source": [
    "### Step 3. Pre-trained ResNet idenfies target objects"
   ]
  },
  {
   "cell_type": "code",
   "execution_count": null,
   "id": "76f8a7a5",
   "metadata": {},
   "outputs": [],
   "source": [
    "# Load pre-trained ResNet weights\n",
    "smodel, ensemble= aoi.models.load_ensemble(\"MHP_Grainboundry_ensemble_metadict.tar\")\n",
    "\n",
    "# Prediction\n",
    "predictor = aoi.predictors.EnsemblePredictor(smodel, ensemble, nb_classes=1)\n",
    "pred_mean, pred_var = predictor.predict(obtained_amp)\n",
    "target_object = pred_mean.squeeze()\n",
    "target_uncertainty = pred_var.squeeze()\n",
    "    \n",
    "# Plot prediction and uncertainty\n",
    "f,(ax0, ax1, ax2) = plt.subplots(1, 3, dpi = 100)\n",
    "ax0.imshow(target_img)\n",
    "ax0.axis ('off')\n",
    "ax0.set_title('Raw Image')\n",
    "ax1.imshow(target_object, cmap = 'gray')\n",
    "ax1.axis('off')\n",
    "ax1.set_title('Prediction')\n",
    "ax2.imshow(target_uncertainty, cmap = 'gray')\n",
    "ax2.axis('off')\n",
    "ax2.set_title('Uncertainty')\n",
    "plt.show()"
   ]
  },
  {
   "cell_type": "markdown",
   "id": "895310c7",
   "metadata": {},
   "source": [
    "### Step 4. Extract coordinates of target objects"
   ]
  },
  {
   "cell_type": "code",
   "execution_count": null,
   "id": "d7c2acd2",
   "metadata": {},
   "outputs": [],
   "source": [
    "# convert the target object image to a binary image\n",
    "_, target_object_binary = cv2.threshold(target_object, 0.4, 1, cv2.THRESH_BINARY)\n",
    "# skeletonzie the lines to avoide duplicated coordinates corresponding to the same object\n",
    "target_object_img = skeletonize(target_object_binary==1)\n",
    "\n",
    "# plot binary image and skeletonize image\n",
    "_, (ax1, ax2) = plt.subplots(1, 2, dpi = 100)\n",
    "ax1.imshow(target_object_binary, origin = 'lower')\n",
    "ax1.set_title(\"Binary\")\n",
    "ax1.set_axis(\"off\")\n",
    "ax2.imshow(target_object_img, origin = 'lower')\n",
    "ax2.set_title(\"Skeletonize\")\n",
    "ax2.set_axis(\"off\")"
   ]
  },
  {
   "cell_type": "code",
   "execution_count": null,
   "id": "95b56f73",
   "metadata": {},
   "outputs": [],
   "source": [
    "# Obtain all target coordinates\n",
    "target_coordinates = np.asarray(np.where(target_object_img==1)).T \n",
    "\n",
    "# Rearange the coordinates to make the route along the object\n",
    "# start at the default first location, ususally this is the lcoation near the bottom left corner\n",
    "current_location = np.zeros((1,2))\n",
    "current_location[:,] = target_coordinates[0,] \n",
    "\n",
    "pristine_route = np.copy(target_coordinates[1:,])\n",
    "new_route = np.copy(current_location)\n",
    "\n",
    "while len(pristine_route) != 0:  # Iterate until move all coordiantes in prisinte route to new route\n",
    "    dist = euclidean_distances(current_location,pristine_route) \n",
    "    next_location = np.asarray(np.where(dist==dist.min())) # The next location is the one closest to the current location\n",
    "    current_location [:,] = route[next_location[-1][-1]] # Update current location as the next location\n",
    "    new_route = np.append (new_route, current_location, 0) # Append next location to the new route\n",
    "    pristine_route = np.delete(pristine_route, next_loccation[:][1], 0) # Remove this locaiton from the prinstine route\n",
    "  \n",
    "## Plot the new route\n",
    "plt.figure(dpi = 100)\n",
    "c = np.arange (len(new_route[:,0]))\n",
    "plt.scatter(new_route[:,1], new_route[:,0], c = c, cmap = \"jet\")\n",
    "plt.show()\n",
    "print(\"Total locations are: \", len(new_route[:,0]))"
   ]
  },
  {
   "cell_type": "code",
   "execution_count": null,
   "id": "25f4cfa7",
   "metadata": {},
   "outputs": [],
   "source": [
    "# In some cases, it is not necessary to measure all target locations, so we can skip some.\n",
    "skip_every = 5\n",
    "skip_index = np.arange(0, len(new_route[:,0]), skip_every)  \n",
    "measure_coordinates = new_route[skip_index]  # skip every 'skip_every' step to create a measurement coordiantes \n",
    "\n",
    "plt.figure(dpi = 100)\n",
    "c = np.arange(len(measure_coordinates[:,0]))\n",
    "plt.scatter(measure_coordinates[:,1], measure_coordinates[:,0], c = c, cmap = \"jet\")\n",
    "plt.show()\n",
    "print (\"Total measurement locations are: \", len(measure_coordinates[:,0]))"
   ]
  },
  {
   "cell_type": "markdown",
   "id": "3ca43fff",
   "metadata": {},
   "source": [
    "### Step 5. Perform pre-planned measurements (e.g., BEPS) at target locations"
   ]
  },
  {
   "cell_type": "code",
   "execution_count": null,
   "id": "76519868",
   "metadata": {},
   "outputs": [],
   "source": [
    "# Convert image coordinates to parameters for probe location\n",
    "measure_locations = newexp.convert_coordinates(measure_coordinates)"
   ]
  },
  {
   "cell_type": "code",
   "execution_count": null,
   "id": "2c687198",
   "metadata": {},
   "outputs": [],
   "source": [
    "measure_steps = len(measure_coordinates[:,0])\n",
    "\n",
    "for i in tqdm(range (measure_steps)):\n",
    "    print(\"Step {}/{}\".format(i, measure_steps))\n",
    "    \n",
    "    # Measurement location\n",
    "    next_coordinate = measure_locations[i]\n",
    "    \n",
    "    # Do measurement\n",
    "    newexp.do_beps(measure_locations)\n",
    "    clear_output()"
   ]
  },
  {
   "cell_type": "markdown",
   "id": "18389176",
   "metadata": {},
   "source": [
    "### Step 6. Save all results as an h5 file"
   ]
  },
  {
   "cell_type": "code",
   "execution_count": null,
   "id": "73f71c5f",
   "metadata": {},
   "outputs": [],
   "source": [
    "hf = h5py.File(\"Processing_Result\", 'a')\n",
    "hf['Images/Raw'] = np.asarray(target_raw)\n",
    "hf['Images/Prediction'] = np.asarray(target_object)\n",
    "hf['Images/Uncertainty'] = np.asarray(target_uncertainty)\n",
    "hf['Images/Binary Object'] = np.asarray(object_binary)\n",
    "hf['Images/Skeletonize Object'] = np.asarray(target_object_img)\n",
    "hf['Coordinates/Target'] = np.asarray(target_coordinates)\n",
    "hf['Coordinates/Rearange'] = np.asarray(new_route)\n",
    "hf['Coordinates/Measure'] = np.asarray(measure_coordinates)\n",
    "hf['Coordinates/Convert'] = np.asarray(measure_locations)"
   ]
  }
 ],
 "metadata": {
  "kernelspec": {
   "display_name": "Python 3 (ipykernel)",
   "language": "python",
   "name": "python3"
  },
  "language_info": {
   "codemirror_mode": {
    "name": "ipython",
    "version": 3
   },
   "file_extension": ".py",
   "mimetype": "text/x-python",
   "name": "python",
   "nbconvert_exporter": "python",
   "pygments_lexer": "ipython3",
   "version": "3.9.7"
  }
 },
 "nbformat": 4,
 "nbformat_minor": 5
}
