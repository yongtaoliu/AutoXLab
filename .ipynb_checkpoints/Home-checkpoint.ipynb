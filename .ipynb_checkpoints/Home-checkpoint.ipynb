{
 "cells": [
  {
   "cell_type": "markdown",
   "metadata": {},
   "source": [
    "\n",
    "# Yongtao Liu, Ph.D.\n",
    "\n",
    "### R&D Staff, Center for Nanophase Materials Sciences, Oak Ridge National Laboratory  \n",
    " \n",
    "\n",
    "Email: liuy3@ornl.gov \n",
    "[Google Scholar](https://scholar.google.com/citations?user=V9FMPgQAAAAJ&hl=en) | [LinkedIn](https://www.linkedin.com/in/yong-tao-liu/)\n",
    "\n",
    "\n",
    "```{image} ../yl.png\n",
    ":width: 300px\n",
    ":align: right\n",
    "```\n",
    "---\n",
    "\n",
    "## Education\n",
    "Ph.D. — The University of Tennessee, Knoxville, TN, USA\n",
    "B.S. — Nankai University, Tianjin, China\n",
    "\n",
    "## Bio\n",
    "Dr. Yongtao Liu is an R&D staff member at the Center for Nanophase Materials Sciences (CNMS) at Oak Ridge National Laboratory (ORNL). He earned his Ph.D. degree from The University of Tennessee, Knoxville. Dr. Liu’s current work focuses on integrating artificial intelligence (AI) with physics to develop autonomous experimentation platforms, such as autonomous microscopy, that accelerate progress in materials science. He is engaged in interdisciplinary projects and is committed to fostering synergy between human expertise and AI, he strives to develop innovative tools and methods that empower researchers worldwide. Dr. Liu’s research interests also include functional materials, such as ferroelectric, optoelectronic, and photovoltaic materials. His contributions to the field have been recognized with multiple awards / honors, such as Graduate Student Award in MRS and AVS, the Microscopy Society of America Postdoctoral Scholar Award, the Joseph E. Spruiell Award for Excellence in Research, ORNL Outstanding Scholarly Output Award, Microscopy Today Innovation Award, and R&D 100 Award.\n",
    "\n",
    "---\n",
    "## Research Interest\n",
    "\n",
    "```{image} ../researchinterest.png\n",
    ":width: 300px\n",
    ":align: center\n",
    "```\n",
    "- Autonomous Scientific Discovery: Designing AI-powered autonomous experimentation frameworks to accelerate materials research and uncover novel phenomena.\n",
    "\n",
    "\n",
    "- Human-AI Collaboration: Integrating domain expertise with artificial intelligence to guide, interpret, and refine experiments for faster and more insightful scientific discovery.\n",
    "\n",
    "\n",
    "- Cross-Facility Optimization: Developing interconnected autonomous experimentation platforms to enable real-time, collaborative optimization across distributed research facilities.\n",
    "\n",
    "- Interpretable Machine Learning for Science: Creating transparent, explainable AI models to drive hypothesis generation and mechanistic understanding in materials science.\n",
    "\n",
    "- Functional Materials at the Nanoscale: Exploring the nanoscale behavior of functional materials, such as ferroelectrics, halide perovskite optoelectronics, and semiconducting polymers, through advanced imaging and spectroscopy characterization techniques.\n",
    "\n",
    "\n",
    "---\n",
    "\n",
    "## Professional and Synergistic Activities\n",
    "- 2025 – 2026: Associate Editor (Guest), npj Flexible Electronics\n",
    "- 2025-present: Board Members of Materials Research Society (MRS) Artificial Intelligence\n",
    "(AI) Topical Community.\n",
    "- 2024 - 2025: Executive Committee Member of American Vacuum Society (AVS)\n",
    "Nanoscale Science and Technology Division (NSTD)\n"
   ]
  }
 ],
 "metadata": {
  "kernelspec": {
   "display_name": "Python 3 (ipykernel)",
   "language": "python",
   "name": "python3"
  },
  "language_info": {
   "codemirror_mode": {
    "name": "ipython",
    "version": 3
   },
   "file_extension": ".py",
   "mimetype": "text/x-python",
   "name": "python",
   "nbconvert_exporter": "python",
   "pygments_lexer": "ipython3",
   "version": "3.13.5"
  }
 },
 "nbformat": 4,
 "nbformat_minor": 4
}
