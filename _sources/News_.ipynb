{
 "cells": [
  {
   "cell_type": "markdown",
   "metadata": {},
   "source": [
    "## News\n",
    "### Invited Talks\n",
    "- Bridging Distributed Autonomous Platforms for Materials Innovation; 2025 MS&T Meeting; Sep 28-Oct 1, 2025; Columbus, OH, USA\n",
    "- Is AI/ML All We Need for Autonomous Experiments, 2025 MS&T Meeting; Sep 28-Oct 1, 2025; Columbus, OH, USA\n",
    "- Accelerating Scientific Discovery with Self-Driving Microscopy; Fall 2025 ACS National Meeting, Aug 17-21, 2025, Washington DC.\n",
    "- Toward Reliable, Efficient, and Adaptive Autonomous Experimentation for Scientific Advancement; Sungkyunkwan University, June 15, 2025\n",
    "- Gated Active Learning: Integrating Prior Knowledge and Expert Insights in Autonomous Experimentation; 247th ECS Meeting, May 18-22, 2025, Montréal, Canada\n",
    "- Scientific Exploration with Expert Knowledge (SEEK) in Active Learning Powered Autonomous Microscopy; EMA 2025: Basic Science and Electronics Division Meeting, Feb 25-28, 2025, Denver, CO, USA\n",
    "- Panel Discussion: “CAS Webinar: Scientific Breakthroughs and Emerging Trends to Watch in 2025”, Feb 23, 2025\n",
    "- Gated Active Learning for Scientific Exploration in Autonomous Experiments; 2024 APS Mid-Atlantic Section Meeting, Nov 15-17, 2024, Philadelphia, PA, USA\n",
    "- Navigating the Microscopic World with AEcroscopy: Automated and Autonomous Measurements; MS&T 2024, Oct 6-9, 2024, Pittsburgh, PA, USA\n",
    "- Navigating the Microscopic World--Autonomous Measurements Powered by Machine Learning; MLM 2024, Sep 17-19, 2024, Kanazawa, Japan\n",
    "- The Synergy of AI efficiency and Human Expertise in Autonomous Experimentation; George and Dot Bishop Advanced Materials Colloquium, Clemson University, Sep 5, 2024\n",
    "- Navigating the Microscopic World--Autonomous Measurements Powered by Machine Learning; 78 th STLE Annual Meeting; May 19-23, 2024, Minneapolis, MN, USA\n",
    "- Machine Learning Driven Automated Scanning Probe Microscopy for Physics Discovery; 2023 ACA Annual Meeting, July 7-11, 2023; Baltimore, Maryland, USA\n",
    "- Machine Learning Driven Automated Scanning Probe Microscopy for Material Discovery: Applications in Ferroelectric and Optoelectronic Materials; APS March Meeting, March 5-10, 2023; Las Vegas, NV, USA.\n",
    "- Autonomous Scanning Probe Microscopy: From Streaming Image Analysis to Learning Physics; AVS meeting; November 6-11, 2022; Pittsburgh, PA, USA.\n",
    "- Machine Learning Driven Automated Scanning Probe Microscopy for Materials Discovery; Seagate Al/ML Distinguished Speaker Series; Oct 7, 2022; Virtual\n",
    "- Machine Learning Driven Automated Microscopy for Materials Discovery; 2022 SPIE Optics + Photonics; August 21-25, 2022; San Diego, USA.\n",
    "- Machine Learning-Driven Automated SPM: Applications in Ferroelectrics; 2022 RMS AFM &SPM Meeting; July 4-6, 2022; Hybrid Virtual and In-Person Conference\n",
    "- Experimental discovery of structure-property relationships in ferroelectric materials via active learning; 2022 Electronic Materials and Applications; January 19-21, 2022; Virtual Conference\n",
    "- Investigating ferroic behavior of metal halide perovskites; 2021 Joint ISAF-ISIF-PFM Virtual Conference; May 16-21, 2021; Virtual Conference.\n",
    "\n",
    "### Workshops/Symposia Organized\n",
    "- 2025 MS&T: Enhancing the Accessibility of Machine Learning-Enabled Experiments; Sep 28 - Oct 1, 2025; Columbus, OH\n",
    "- 2025 ACerS EMA Basic Science and Electronic Materials Meeting: AI in materials research: from data analysis, autonomous experimentation, to human-AI cooperation; Feb 25-28, 2025; Denver, CO\n",
    "- 2024 MRS Fall Meeting: Symposium MT02-Machine Learning in Action—Automated and Autonomous Experiments; Dec 1- 6, 2024; Boston, MA\n",
    "- 2024 CNMS User Meeting: Workshop-AI/ML approaches to incorporate theory-in-the-loop to achieve autonomous synthesis and manipulation, August 12-15, 2024; Knoxville, TN\n",
    "- 2024 Microscopy & Microanalysis Meeting: Symposium C02-Machine Learning-driven Automated Microscopy for Materials Discovery and Semiconductor Manufacturing; July 28-Aug 1, 2024; Cleveland, OH\n",
    "- 2024 MRS/ACerS Joint Workshop: AI/ML for Ceramics/Glasses; Mar 26-27, 2024; Virtual\n",
    "- 2024 ACerS EMA Basic Science and Electronic Materials Meeting: Symposium Machine Learning and Automated Synthesis/Characterization for Novel Materials; Feb 13-16, 2024; Denver, CO\n",
    "- 2023 MRS Fall Meeting: Symposium DS02-Automated Experimentation with Synchrotrons, Neutrons and Microscopes; Nov 26-Dec 1, 2023; Boston, MA\n",
    "- 2023 CNMS User Meeting Workshop: Autonomous Characterization and Synthesis; Aug 7, 2023; Knoxville, TN\n"
   ]
  }
 ],
 "metadata": {
  "kernelspec": {
   "display_name": "Python 3 (ipykernel)",
   "language": "python",
   "name": "python3"
  },
  "language_info": {
   "codemirror_mode": {
    "name": "ipython",
    "version": 3
   },
   "file_extension": ".py",
   "mimetype": "text/x-python",
   "name": "python",
   "nbconvert_exporter": "python",
   "pygments_lexer": "ipython3",
   "version": "3.13.5"
  }
 },
 "nbformat": 4,
 "nbformat_minor": 4
}
