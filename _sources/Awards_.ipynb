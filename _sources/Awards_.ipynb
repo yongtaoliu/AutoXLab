{
 "cells": [
  {
   "cell_type": "markdown",
   "metadata": {},
   "source": [
    "## Awards\n",
    "- MAS Early Career Travel Award, American Physical Society, 2024\n",
    "- Microscopy Today Innovation Award, Microscopy Society of America, 2024\n",
    "- AVS NSTD Early Career Competition Finalist, American Vacuum Society, 2023\n",
    "- R&D 100 Award, 2023\n",
    "- CNMS Postdoctoral Award, Center for Nanophase Materials Sciences, 2023\n",
    "- Microscopy & Microanalysis Postdoctoral Scholar Award, Microscopy Society of America, 2023\n",
    "- ORNL Outstanding Scholarly Output Award, ORNL, 2022\n",
    "- AVS NSTD Early Career Competition Finalist, American Vacuum Society, 2022\n",
    "- MRS Graduate Student Silver Award, Materials Research Society, 2019\n",
    "- AVS Graduate Research Award, American Vacuum Society, 2019\n",
    "- Best Student Poster Gold Award (1st Place), CNMS ORNL, 2019\n",
    "- Joseph E. Spruiell Award for Excellence in Research, 2019\n",
    "- MRS Graduate Student Silver Award, Materials Research Society, 2018\n",
    "- Best Student Poster Award, CNMS ORNL, 2018\n",
    "\n",
    "---"
   ]
  }
 ],
 "metadata": {
  "kernelspec": {
   "display_name": "Python 3 (ipykernel)",
   "language": "python",
   "name": "python3"
  },
  "language_info": {
   "codemirror_mode": {
    "name": "ipython",
    "version": 3
   },
   "file_extension": ".py",
   "mimetype": "text/x-python",
   "name": "python",
   "nbconvert_exporter": "python",
   "pygments_lexer": "ipython3",
   "version": "3.13.5"
  }
 },
 "nbformat": 4,
 "nbformat_minor": 4
}
