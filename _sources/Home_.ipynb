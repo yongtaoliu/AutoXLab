{
 "cells": [
  {
   "cell_type": "markdown",
   "metadata": {},
   "source": [
    "\n",
    "\n",
    "```{image} autoxlab.png\n",
    ":width: 700px\n",
    ":align: center\n",
    "```\n",
    "---\n",
    "\n",
    "Welcome to AutoXLab, where AI-driven exploration and experimentation redefine the boundaries of scientific discovery. At the intersection of autonomous experimentation, interpretable machine learning, and human-AI collaboration, AutoXLab develops next-generation platforms that accelerate materials innovation and uncover new phenomena. Explore how we integrate domain expertise with artificial intelligence to empower intelligent experimentation across scales and facilities."
   ]
  }
 ],
 "metadata": {
  "kernelspec": {
   "display_name": "Python 3 (ipykernel)",
   "language": "python",
   "name": "python3"
  },
  "language_info": {
   "codemirror_mode": {
    "name": "ipython",
    "version": 3
   },
   "file_extension": ".py",
   "mimetype": "text/x-python",
   "name": "python",
   "nbconvert_exporter": "python",
   "pygments_lexer": "ipython3",
   "version": "3.13.5"
  }
 },
 "nbformat": 4,
 "nbformat_minor": 4
}
