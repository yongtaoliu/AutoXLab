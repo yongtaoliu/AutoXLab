{
 "cells": [
  {
   "cell_type": "markdown",
   "metadata": {},
   "source": [
    "# Research\n",
    "\n",
    "## Research\n",
    "\n",
    "### Autonomous Experimentation\n",
    "Developing platforms like AEcroscopy and SEEK that integrate AI, active learning, and automation to accelerate materials research.\n",
    "\n",
    "### Ferroelectric and Perovskite Materials\n",
    "Investigating switching dynamics, domain wall behavior, and material properties using PFM, AFM, and chemical imaging.\n",
    "\n",
    "### Machine Learning for Physics\n",
    "Using representation learning and physics-informed models to understand structure-property relationships.\n",
    "\n",
    "### Scientific Leadership\n",
    "Organizing major symposia, serving on society committees (MRS, AVS), and participating in editorial duties to support the scientific community.\n"
   ]
  },
  {
   "cell_type": "markdown",
   "metadata": {},
   "source": [
    "# Publications\n",
    "\n",
    "## Publications\n",
    "\n",
    "A complete list is available on my [Google Scholar](https://scholar.google.com).\n",
    "\n",
    "1. **Active Oversight and Quality Control in Standard Bayesian Optimization for Autonomous Experiments**  \n",
    "   _Harris, S.B., Vasudevan, R.V., Liu, Y._  \n",
    "   npj Computational Materials 11(1), 23, 2025  \n",
    "   [View Publication](https://doi.org/10.1038/s41524-025-00345-7)\n",
    "\n",
    "2. **Invariant Discovery of Features Across Multiple Length Scales: Applications in Microscopy and Autonomous Materials Characterization**  \n",
    "   _Raghavan, A., Pratiush, U., Valleti, M., Liu, R., Emery, R., Funakubo, H., Liu, Y., et al._  \n",
    "   Journal of Applied Physics 137(3), 2025  \n",
    "   [View Publication](https://doi.org/10.1063/5.0153489)\n",
    "\n",
    "3. **Materials Discovery in Combinatorial and High-throughput Synthesis and Processing: A New Frontier for SPM**  \n",
    "   _Slautin, B.N., Liu, Y., et al._  \n",
    "   arXiv preprint arXiv:2501.02503  \n",
    "   [View Publication](https://arxiv.org/abs/2501.02503)\n",
    "\n",
    "4. **On-demand Nanoengineering of In-plane Ferroelectric Topologies**  \n",
    "   _Checa, M., Pant, B., Puretzky, A., Dryzhakov, B., Vasudevan, R. K., Liu, Y., et al._  \n",
    "   Nature Nanotechnology, 2025  \n",
    "   [View Publication](https://doi.org/10.1038/s41565-024-01376-3)\n"
   ]
  },
  {
   "cell_type": "markdown",
   "metadata": {},
   "source": [
    "# Talks and Outreach\n",
    "\n",
    "## Talks and Outreach\n",
    "\n",
    "### Recent Invited Talks\n",
    "- Human-AI Collaboration in Autonomous Experiments — 2025 MRS Fall Meeting\n",
    "- Accelerating Scientific Discovery with Self-Driving Microscopy — 2025 ACS National Meeting\n",
    "- Gated Active Learning in Autonomous Experimentation — 2025 ECS Meeting\n",
    "\n",
    "### Workshops and Symposia Organized\n",
    "- 2025 MRS Fall Symposium: Autonomous Experiments\n",
    "- 2024 CNMS User Meeting: AI/ML in Synthesis and Characterization\n",
    "- 2024 Microscopy & Microanalysis: Machine Learning in Microscopy\n"
   ]
  },
  {
   "cell_type": "markdown",
   "metadata": {},
   "source": [
    "# Awards and Recognition\n",
    "\n",
    "## Awards and Recognition\n",
    "\n",
    "- R&D 100 Award, 2023\n",
    "- Microscopy Today Innovation Award, 2024\n",
    "- ORNL Outstanding Scholarly Output Award, 2022\n",
    "- MRS Graduate Student Silver Award (2018, 2019)\n",
    "- AVS Early Career Finalist, 2022, 2023\n"
   ]
  }
 ],
 "metadata": {
  "kernelspec": {
   "display_name": "Python 3 (ipykernel)",
   "language": "python",
   "name": "python3"
  },
  "language_info": {
   "codemirror_mode": {
    "name": "ipython",
    "version": 3
   },
   "file_extension": ".py",
   "mimetype": "text/x-python",
   "name": "python",
   "nbconvert_exporter": "python",
   "pygments_lexer": "ipython3",
   "version": "3.13.5"
  }
 },
 "nbformat": 4,
 "nbformat_minor": 4
}
